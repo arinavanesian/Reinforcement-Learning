import  matplotlib.pyplot as plt
import gymnasium as gym
import numpy as np


env = gym.make ("Frozen_lake", map_name = "8x8")
