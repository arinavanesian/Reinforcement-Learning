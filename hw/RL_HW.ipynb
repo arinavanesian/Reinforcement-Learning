{
  "nbformat": 4,
  "nbformat_minor": 0,
  "metadata": {
    "colab": {
      "provenance": [],
      "toc_visible": true
    },
    "kernelspec": {
      "name": "python3",
      "display_name": "Python 3"
    },
    "language_info": {
      "name": "python"
    }
  },
  "cells": [
    {
      "cell_type": "markdown",
      "source": [
        "# RL: Markov Decision Process\n",
        "Author: Arin Avanoosyan"
      ],
      "metadata": {
        "id": "nSNUR1K8kL3B"
      }
    },
    {
      "cell_type": "code",
      "source": [
        "import numpy as np\n",
        "import matplotlib.pyplot as plt"
      ],
      "metadata": {
        "id": "pScZpqrBIK4e"
      },
      "execution_count": null,
      "outputs": []
    },
    {
      "cell_type": "markdown",
      "source": [
        "#Problem 2"
      ],
      "metadata": {
        "id": "97ux-WhhkFih"
      }
    },
    {
      "cell_type": "code",
      "execution_count": null,
      "metadata": {
        "colab": {
          "base_uri": "https://localhost:8080/"
        },
        "id": "T2B7Xp1pHfsz",
        "outputId": "62d9eb06-3c54-44f7-b6f6-467c35d9bdbb"
      },
      "outputs": [
        {
          "output_type": "stream",
          "name": "stdout",
          "text": [
            "Final Value State Function: \n",
            " [63.24 49.55 54.2 ]\n"
          ]
        }
      ],
      "source": [
        "reward = np.array([10, 0, 3])\n",
        "value_ = np.array(3)\n",
        "P = np.array([\n",
        "    [0.6, 0.1, 0.3],\n",
        "    [0.3, 0.4, 0.3],\n",
        "    [0.4, 0.2, 0.4],\n",
        "])\n",
        "\n",
        "I = np.eye(3)\n",
        "gamma_discount= 0.9\n",
        "\n",
        "value_ = np.linalg.inv(I - gamma_discount*P)@reward\n",
        "value_ = np.round(value_, 2)\n",
        "print(\"Final Value State Function: \\n\",value_)"
      ]
    },
    {
      "cell_type": "code",
      "source": [
        "def compute_value(P, reward, gamma_discount):\n",
        "  value_ = np.array(3)\n",
        "  I = np.eye(3)\n",
        "  gamma_discount= 0.9\n",
        "  value_ = np.linalg.inv(I - gamma_discount*P)@reward\n",
        "  value_ = np.round(value_, 2)\n",
        "  print(\"Final Value State Function: \\n\",value_)\n",
        "  return value_"
      ],
      "metadata": {
        "id": "ubykdzx1Q5Rw"
      },
      "execution_count": null,
      "outputs": []
    },
    {
      "cell_type": "markdown",
      "source": [
        "#Problem 3"
      ],
      "metadata": {
        "id": "PhwqguCakC3W"
      }
    },
    {
      "cell_type": "code",
      "source": [
        "P_a0 = np.array([\n",
        "    [0.5, 0.15, 0.35],\n",
        "    [0.25, 0.4, 0.35],\n",
        "    [0.35, 0.25, 0.4]\n",
        "])\n",
        "\n",
        "\n",
        "P_a1 = np.array([\n",
        "    [0.7, 0.05, 0.25],\n",
        "    [0.35, 0.3, 0.35],\n",
        "    [0.45, 0.1, 0.45]\n",
        "])\n",
        "\n",
        "P_a2 = np.array([\n",
        "    [0.4, 0.35, 0.25],\n",
        "    [0.2, 0.6, 0.2],\n",
        "    [0.3, 0.4, 0.3]\n",
        "])\n",
        "\n",
        "R_a0 = reward\n",
        "R_a1 = np.array([15, 0, 5])\n",
        "\n",
        "R_a2 = np.array([8, 0, 2])\n",
        "\n",
        "#Added this to use in my policy_iteration code\n",
        "R_stack = np.stack([R_a0, R_a1, R_a2], axis=0)\n",
        "\n",
        "policy_ = np.array([0.35, 0.45, 0.20])\n",
        "\n",
        "\n",
        "value_ = np.array([63.24, 49.55, 54.2])\n",
        "\n",
        "\n",
        "print(\"Action0 Transition Matrix\\n\")\n",
        "print(P_a0)\n",
        "\n",
        "print(\"\\nAction1 Transition Matrix\\n\")\n",
        "print(P_a1)\n",
        "\n",
        "print(\"\\nAction2 Transition Matrix\\n\")\n",
        "print(P_a2)\n",
        "\n",
        "print(\"\\nRewards for Action0\")\n",
        "print(R_a0)\n",
        "\n",
        "print(\"\\nRewards for Action1\")\n",
        "print(R_a1)\n",
        "\n",
        "print(\"\\nRewards for Action2\")\n",
        "print(R_a2)\n",
        "\n",
        "print(\"\\nPolicy\")\n",
        "print(policy_)\n",
        "\n",
        "print(\"\\nState Values\")\n",
        "print(value_)"
      ],
      "metadata": {
        "colab": {
          "base_uri": "https://localhost:8080/"
        },
        "id": "GFzfRWLUfXQi",
        "outputId": "df19492b-8de6-4a96-b12e-9501d6182b18"
      },
      "execution_count": null,
      "outputs": [
        {
          "output_type": "stream",
          "name": "stdout",
          "text": [
            "Action0 Transition Matrix\n",
            "\n",
            "[[0.5  0.15 0.35]\n",
            " [0.25 0.4  0.35]\n",
            " [0.35 0.25 0.4 ]]\n",
            "\n",
            "Action1 Transition Matrix\n",
            "\n",
            "[[0.7  0.05 0.25]\n",
            " [0.35 0.3  0.35]\n",
            " [0.45 0.1  0.45]]\n",
            "\n",
            "Action2 Transition Matrix\n",
            "\n",
            "[[0.4  0.35 0.25]\n",
            " [0.2  0.6  0.2 ]\n",
            " [0.3  0.4  0.3 ]]\n",
            "\n",
            "Rewards for Action0\n",
            "[10  0  3]\n",
            "\n",
            "Rewards for Action1\n",
            "[15  0  5]\n",
            "\n",
            "Rewards for Action2\n",
            "[8 0 2]\n",
            "\n",
            "Policy\n",
            "[0.35 0.45 0.2 ]\n",
            "\n",
            "State Values\n",
            "[63.24 49.55 54.2 ]\n"
          ]
        }
      ]
    },
    {
      "cell_type": "code",
      "source": [
        "P_stacked = np.stack([P_a0, P_a1, P_a2], axis=0)\n",
        "P_avg = np.tensordot(policy_, P_stacked, axes=(0, 0))\n",
        "print(\"\\nWeighted Transition matrix by the policy\\n\")\n",
        "print(P_avg)\n",
        "R_avg = (policy_[0]* R_a0 + policy_[1] * R_a1 +policy_[2]*R_a2)\n",
        "print(\"\\nWeighted Reward vector by the policy\\n\")\n",
        "print(R_avg)\n",
        "V = np.linalg.inv(I - gamma_discount*P_avg)@R_avg\n",
        "V = np.round(V, 2)\n",
        "# Q = R_avg.T + ((gamma_discount*P_avg)@V.T)\n",
        "# Q = np.round(Q, 2)\n",
        "\n",
        "Q = np.zeros((3, 3))\n",
        "for a in range(3):\n",
        "    if a == 0:\n",
        "        P = P_a0\n",
        "        R = R_a0\n",
        "    elif a == 1:\n",
        "        P = P_a1\n",
        "        R = R_a1\n",
        "    elif a == 2:\n",
        "        P = P_a2\n",
        "        R = R_a2\n",
        "    Q[:, a] = R + gamma_discount * np.dot(P, V)\n",
        "\n",
        "\n",
        "Q = np.round(Q, 2)\n",
        "print(\"\\nWeighted State-Value Function by the policy\\n\")\n",
        "print(V)\n",
        "print(\"\\nWeighted Action-Value Function by the policy\\n\")\n",
        "print(Q)\n"
      ],
      "metadata": {
        "colab": {
          "base_uri": "https://localhost:8080/"
        },
        "id": "Z6pzw3ZouQ4s",
        "outputId": "9f9be9e7-6f76-466b-8dc8-b826a40fb803"
      },
      "execution_count": null,
      "outputs": [
        {
          "output_type": "stream",
          "name": "stdout",
          "text": [
            "\n",
            "Weighted Transition matrix by the policy\n",
            "\n",
            "[[0.57   0.145  0.285 ]\n",
            " [0.285  0.395  0.32  ]\n",
            " [0.385  0.2125 0.4025]]\n",
            "\n",
            "Weighted Reward vector by the policy\n",
            "\n",
            "[11.85  0.    3.7 ]\n",
            "\n",
            "Weighted State-Value Function by the policy\n",
            "\n",
            "[71.89 56.19 61.71]\n",
            "\n",
            "Weighted Action-Value Function by the policy\n",
            "\n",
            "[[69.37 76.7  65.46]\n",
            " [55.84 57.26 54.39]\n",
            " [60.5  64.17 58.3 ]]\n"
          ]
        }
      ]
    },
    {
      "cell_type": "markdown",
      "source": [
        "I am creating a function to calculate the Q value specific to the\n",
        "assignment, for further use."
      ],
      "metadata": {
        "id": "dYVZtj61YVui"
      }
    },
    {
      "cell_type": "code",
      "source": [
        "def compute_Q_value(V, P, P_a0, P_a1, P_a2):\n",
        "  Q = np.zeros((3, 3))\n",
        "  for a in range(3):\n",
        "      if a == 0:\n",
        "          P = P_a0\n",
        "          R = R_a0\n",
        "      elif a == 1:\n",
        "          P = P_a1\n",
        "          R = R_a1\n",
        "      elif a == 2:\n",
        "          P = P_a2\n",
        "          R = R_a2\n",
        "      Q[:, a] = R + gamma_discount * np.dot(P, V)\n",
        "  Q = np.round(Q, 2)\n",
        "  return Q"
      ],
      "metadata": {
        "id": "4GZTtMhOYUoK"
      },
      "execution_count": null,
      "outputs": []
    },
    {
      "cell_type": "markdown",
      "source": [
        "Now let us get the optimal policy based on the Q matrix"
      ],
      "metadata": {
        "id": "fO3QOYSfK1dV"
      }
    },
    {
      "cell_type": "code",
      "source": [
        "policy_ = np.argmax(Q, axis=1)\n",
        "optimal_values = Q[np.arange(len(policy_)), policy_]\n",
        "print(optimal_values)"
      ],
      "metadata": {
        "colab": {
          "base_uri": "https://localhost:8080/"
        },
        "id": "qLwjw0NMHjiH",
        "outputId": "8e7385e8-8adb-4749-a4a1-b68a31cde8d5"
      },
      "execution_count": null,
      "outputs": [
        {
          "output_type": "stream",
          "name": "stdout",
          "text": [
            "[76.7  57.26 64.17]\n"
          ]
        }
      ]
    },
    {
      "cell_type": "markdown",
      "source": [],
      "metadata": {
        "id": "Zg9ihjZY-Owa"
      }
    },
    {
      "cell_type": "markdown",
      "source": [
        "Turns out taking the action 1 at all 3 states is the best policy"
      ],
      "metadata": {
        "id": "Vq07X8JUK53R"
      }
    },
    {
      "cell_type": "code",
      "source": [
        "# visited = set()"
      ],
      "metadata": {
        "id": "Z7-ImuzoLYNW"
      },
      "execution_count": null,
      "outputs": []
    },
    {
      "cell_type": "code",
      "source": [
        "# def compute_state_value(state, visited=set()):\n",
        "#     if policy_<= policy_new:\n",
        "#         return 0\n",
        "#     if state in visited:\n",
        "#         return 0\n",
        "#     visited.add(state)\n",
        "#     action = policy.get(state, 0)\n",
        "\n",
        "#     if state not in states or action not in actions:\n",
        "#         return 0\n",
        "#     #probability for each action (policy?), I use the unwrapped for gym\n",
        "#     # transition = env.unwrapped.P[state][action]\n",
        "#     state_value = 0\n",
        "\n",
        "#     for prob, next_state, reward, done in transition:\n",
        "#         state_value += prob * (reward + gamma * compute_state_value(next_state, visited.copy()))\n",
        "\n",
        "#     return state_valuea"
      ],
      "metadata": {
        "id": "S4TsboEGIJi9"
      },
      "execution_count": null,
      "outputs": []
    },
    {
      "cell_type": "code",
      "source": [
        "gamma =0.8\n",
        "terminal_state = 14\n",
        "def compute_q_values(state, action):\n",
        "  if state == terminal_state:\n",
        "    return 0\n",
        "\n",
        "  q_value = 0\n",
        "  for prob, next_state, reward, terminated in env.unwrapped.P[state][action]:\n",
        "      q_value += prob * (reward + gamma * compute_state_value(next_state) if not terminated else reward)\n",
        "\n",
        "  return q_value"
      ],
      "metadata": {
        "id": "eFuUtMztUu5o"
      },
      "execution_count": null,
      "outputs": []
    },
    {
      "cell_type": "code",
      "source": [
        "num_states = P_avg.shape[0]\n",
        "num_actions = P_avg.shape[1]\n",
        "print(\"Number of States: \", num_states)\n",
        "print(\"Number of States: \", num_actions)"
      ],
      "metadata": {
        "colab": {
          "base_uri": "https://localhost:8080/"
        },
        "id": "MAKBHxazXiZO",
        "outputId": "2f96ad59-d715-4506-a54c-b7104ba74f10"
      },
      "execution_count": null,
      "outputs": [
        {
          "output_type": "stream",
          "name": "stdout",
          "text": [
            "Number of States:  3\n",
            "Number of States:  3\n"
          ]
        }
      ]
    },
    {
      "cell_type": "markdown",
      "source": [
        "#Policy Evaluation"
      ],
      "metadata": {
        "id": "Ocm7IW20OKVJ"
      }
    },
    {
      "cell_type": "code",
      "source": [
        "def policy_evaluation(policy):\n",
        "    V = {state: compute_state_value(state) for state in range(num_states)}\n",
        "    return V"
      ],
      "metadata": {
        "id": "G0tAnohh6UwT"
      },
      "execution_count": null,
      "outputs": []
    },
    {
      "cell_type": "markdown",
      "source": [
        "#Policy Improvement"
      ],
      "metadata": {
        "id": "cloAwWi6OPrW"
      }
    },
    {
      "cell_type": "code",
      "source": [
        "def policy_improvement(policy):\n",
        "    improved_policy = {s: 0 for s in range(num_states-1)}\n",
        "    Q = {(state, action): compute_q_value(state, action, policy) for state in range(num_states) for action in range(num_actions)}\n",
        "    for state in range(num_states-1):\n",
        "        max_action = max(range(num_actions), key=lambda action:Q[(state, action)] )\n",
        "        improved_policy[state] = max_action\n",
        "\n",
        "    return improved_policy"
      ],
      "metadata": {
        "id": "WTW5Jy1K6Xzy"
      },
      "execution_count": null,
      "outputs": []
    },
    {
      "cell_type": "markdown",
      "source": [
        "#Polic Iteration\n",
        "*Putting Evaluation and Improvement Together*"
      ],
      "metadata": {
        "id": "WSBGChO2OTmd"
      }
    },
    {
      "cell_type": "code",
      "source": [
        "# def policy_iteration():\n",
        "#     policy = {0:2, 1:2, 2:1, 3:1, 4:0, 5:0, 6:2, 7:2}\n",
        "#     while True:\n",
        "#         V = policy_evaluation(policy)\n",
        "#         improved_policy = policy_improvement(policy)\n",
        "#         if improved_policy == policy:\n",
        "#             break\n",
        "#         policy = improved_policy\n",
        "\n",
        "#     return policy, V\n",
        "\n",
        "# policy, V = policy_iteration()"
      ],
      "metadata": {
        "id": "dFV7qcds6UCG"
      },
      "execution_count": null,
      "outputs": []
    },
    {
      "cell_type": "code",
      "source": [
        "# def value_iteration():\n",
        "#     if state == terminal_state:\n",
        "#         return 0\n",
        "#     action = policy.get(state, 0)\n",
        "#     if state not in env.unwrapped.P or action not in env.unwrapped.P[state]:\n",
        "#         return 0\n",
        "#     state_transitions = env.unwrapped.P[state][action]  # List of (prob, next_state, reward, done) tuples\n",
        "\n",
        "#     expected_value = 0\n",
        "#     print(\"Final Value State Function: \\n\",value_)\n",
        "#     for prob, next_state, reward, done in state_transitions:\n",
        "#         expected_value += prob * (reward + gamma * compute_state_value(next_state)) #if not done else reward)\n",
        "\n",
        "#     return expected_value"
      ],
      "metadata": {
        "id": "HpvmwUEP6tD6"
      },
      "execution_count": null,
      "outputs": []
    },
    {
      "cell_type": "markdown",
      "source": [
        "#Richardson Iteration"
      ],
      "metadata": {
        "id": "6OCZfr1lQcqH"
      }
    },
    {
      "cell_type": "markdown",
      "source": [
        "I created an episodic task sample to test my function on, since the Problems1-3 are not episodic, but continuous.\n",
        "The code below is the general case."
      ],
      "metadata": {
        "id": "OxlUaklmQghB"
      }
    },
    {
      "cell_type": "code",
      "source": [
        "def richardson_iteration_value_function(P, R, gamma, max_iterations=1000, tolerance=1e-6):\n",
        "    n_states = P.shape[0]\n",
        "    value_ = np.zeros(n_states)\n",
        "    deltas = []\n",
        "\n",
        "    for i in range(max_iterations):\n",
        "        value_new = R + gamma * np.dot(P, value_)\n",
        "        delta = np.max(np.abs(value_new - value_))\n",
        "        deltas.append(delta)\n",
        "        value_ = value_new\n",
        "        if delta < tolerance:\n",
        "            print(f\"Converged after {i+1} iterations\")\n",
        "            break\n",
        "\n",
        "    return value_, deltas\n",
        "\n",
        "value_, deltas = richardson_iteration_value_function(P_avg, R_avg, gamma_discount)\n",
        "value_ = np.round(value_, 2)\n",
        "print(\"\\nWeighted State-Value Function by the policy\\n\")\n",
        "print(value_)"
      ],
      "metadata": {
        "colab": {
          "base_uri": "https://localhost:8080/"
        },
        "id": "xAesrz8RfJHR",
        "outputId": "537d9175-d2f4-4117-e2ea-00284aa879ba"
      },
      "execution_count": null,
      "outputs": [
        {
          "output_type": "stream",
          "name": "stdout",
          "text": [
            "Converged after 150 iterations\n",
            "\n",
            "Weighted State-Value Function by the policy\n",
            "\n",
            "[71.89 56.19 61.71]\n"
          ]
        }
      ]
    },
    {
      "cell_type": "markdown",
      "source": [
        "Note that I got exactly the same State-Value function as in the Problem 3. As instructed, I will create a more general maze case, to test my richardson iteration on."
      ],
      "metadata": {
        "id": "cYYP3Oh4gHbz"
      }
    },
    {
      "cell_type": "markdown",
      "source": [],
      "metadata": {
        "id": "7oWjFPHPgd_P"
      }
    },
    {
      "cell_type": "code",
      "source": [
        "def my_mdp():\n",
        "\n",
        "    P = np.array([\n",
        "        [0.7, 0.3, 0.0, 0.0],\n",
        "        [0.1, 0.6, 0.3, 0.0],\n",
        "        [0.0, 0.1, 0.7, 0.2],\n",
        "        [0.0, 0.0, 0.0, 1.0]\n",
        "    ])\n",
        "\n",
        "    R = np.array([0, 0, 0, 10])\n",
        "\n",
        "    gamma = 0.9\n",
        "\n",
        "    return P, R, gamma\n",
        "\n",
        "P, R, gamma = my_mdp()\n",
        "V, errors = richardson_iteration_value_function(P, R, gamma)\n",
        "\n",
        "print(\"Final value function:\")\n",
        "print(V)\n",
        "\n",
        "\n",
        "plt.figure(figsize=(10, 5))\n",
        "plt.plot(errors)\n",
        "plt.xlabel('Iterations')\n",
        "plt.ylabel('Error (Delta)')\n",
        "plt.title('Richardson Iteration Convergence')\n",
        "plt.yscale('log')\n",
        "plt.grid(True)\n",
        "plt.show()\n",
        "\n",
        "\n",
        "I = np.eye(P.shape[0])\n",
        "V_analytical = np.linalg.solve(I - gamma * P, R)\n",
        "print(\"\\nAnalytical solution:\")\n",
        "print(V_analytical)\n",
        "print(f\"Difference: {np.max(np.abs(V - V_analytical))}\")"
      ],
      "metadata": {
        "colab": {
          "base_uri": "https://localhost:8080/",
          "height": 614
        },
        "id": "ERYdZigEQfEi",
        "outputId": "0300502f-b5a2-4b88-86bb-966ba2c1ecd4"
      },
      "execution_count": null,
      "outputs": [
        {
          "output_type": "stream",
          "name": "stdout",
          "text": [
            "Converged after 154 iterations\n",
            "Final value function:\n",
            "[29.16517594 39.96709628 58.37036797 99.99999102]\n"
          ]
        },
        {
          "output_type": "display_data",
          "data": {
            "text/plain": [
              "<Figure size 1000x500 with 1 Axes>"
            ],
            "image/png": "[encoded data removed]"
          },
          "metadata": {}
        },
        {
          "output_type": "stream",
          "name": "stdout",
          "text": [
            "\n",
            "Analytical solution:\n",
            "[ 29.16518492  39.96710526  58.37037696 100.        ]\n",
            "Difference: 8.981449937550678e-06\n"
          ]
        }
      ]
    },
    {
      "cell_type": "markdown",
      "source": [
        "#Richardson Iteration"
      ],
      "metadata": {
        "id": "vOgHy1NJTGs0"
      }
    },
    {
      "cell_type": "code",
      "source": [
        "def policy_evaluation_richardson(P_stacked, R_stack, policy, gamma, max_iter=1000, tol=1e-6):\n",
        "    n_states = P_stacked.shape[1]\n",
        "    V = np.zeros(n_states)  # Initialize value function\n",
        "\n",
        "    # Convert deterministic policy indices to transition matrix and reward vector\n",
        "    P_policy = np.zeros((n_states, n_states))\n",
        "    R_policy = np.zeros(n_states)\n",
        "\n",
        "    for s in range(n_states):\n",
        "        a = policy[s]\n",
        "        P_policy[s] = P_stacked[a, s]\n",
        "        R_policy[s] = R_stack[a, s]\n",
        "\n",
        "    # Richardson iteration\n",
        "    for i in range(max_iter):\n",
        "        delta = 0\n",
        "        # Perform Bellman update: V_new = R + gamma * P * V\n",
        "        V_new = R_policy + gamma * np.dot(P_policy, V)\n",
        "\n",
        "        # Check convergence\n",
        "        delta = np.max(np.abs(V_new - V))\n",
        "        V = V_new\n",
        "\n",
        "        if delta < tol:\n",
        "            print(f\"Policy evaluation converged after {i+1} iterations\")\n",
        "            break\n",
        "\n",
        "    return V"
      ],
      "metadata": {
        "id": "Jkt3hwv5S6O9"
      },
      "execution_count": null,
      "outputs": []
    },
    {
      "cell_type": "markdown",
      "source": [
        "# Problem 2: Policy Iteration"
      ],
      "metadata": {
        "id": "1LVcs4RZTCD6"
      }
    },
    {
      "cell_type": "code",
      "source": [
        "def policy_iteration(P_stack, R_stack, gamma, max_iter=100, eval_max_iter=1000, tol=1e-6):\n",
        "    n_states = P_stack.shape[1]\n",
        "    n_actions = P_stack.shape[0]\n",
        "    policy = np.zeros(n_states, dtype=int)\n",
        "\n",
        "    for i in range(max_iter):\n",
        "        V = policy_evaluation_richardson(P_stack, R_stack, policy, gamma, eval_max_iter, tol)\n",
        "        policy_stable = True\n",
        "\n",
        "        for s in range(n_states):\n",
        "            old_action = policy[s]\n",
        "            Q_s = np.zeros(n_actions)\n",
        "            for a in range(n_actions):\n",
        "                Q_s[a] = R_stack[a, s] + gamma * np.dot(P_stack[a, s], V)\n",
        "            policy[s] = np.argmax(Q_s)\n",
        "            if old_action != policy[s]:\n",
        "                policy_stable = False\n",
        "\n",
        "        print(f\"Iteration {i+1}, Policy: {policy}\")\n",
        "        if policy_stable:\n",
        "            print(f\"Policy iteration converged after {i+1} iterations\")\n",
        "            break\n",
        "\n",
        "    return policy, V"
      ],
      "metadata": {
        "id": "I0plxXOES2iQ"
      },
      "execution_count": null,
      "outputs": []
    },
    {
      "cell_type": "markdown",
      "source": [
        "# Problem 3: Value Iteration"
      ],
      "metadata": {
        "id": "DO_ETGRjS-eq"
      }
    },
    {
      "cell_type": "code",
      "source": [
        "def value_iteration(P_stack, R_stack, gamma, max_iter=1000, tol=1e-6):\n",
        "    n_states = P_stack.shape[1]\n",
        "    n_actions = P_stack.shape[0]\n",
        "    V = np.zeros(n_states)\n",
        "\n",
        "    for i in range(max_iter):\n",
        "        delta = 0\n",
        "        for s in range(n_states):\n",
        "            v = V[s]\n",
        "            Q_s = np.zeros(n_actions)\n",
        "            for a in range(n_actions):\n",
        "                Q_s[a] = R_stack[a, s] + gamma * np.dot(P_stack[a, s], V)\n",
        "            V[s] = np.max(Q_s)\n",
        "            delta = max(delta, np.abs(v - V[s]))\n",
        "        if delta < tol:\n",
        "            print(f\"Value iteration converged after {i+1} iterations\")\n",
        "            break\n",
        "    policy = np.zeros(n_states, dtype=int)\n",
        "    for s in range(n_states):\n",
        "        Q_s = np.zeros(n_actions)\n",
        "        for a in range(n_actions):\n",
        "            Q_s[a] = R_stack[a, s] + gamma * np.dot(P_stack[a, s], V)\n",
        "        policy[s] = np.argmax(Q_s)\n",
        "\n",
        "    return policy, V"
      ],
      "metadata": {
        "id": "qzOonfGmQbzI"
      },
      "execution_count": null,
      "outputs": []
    },
    {
      "cell_type": "code",
      "source": [
        "print(\"\\n------Policy Evaluation------\")\n",
        "V_eval = policy_evaluation_richardson(P_stacked, R_stack, policy_, gamma)\n",
        "print(\"Value function for policy [1, 1, 1]:\")\n",
        "print(V_eval)\n",
        "\n",
        "print(\"\\n----Policy Iteration----\\n\")\n",
        "optimal_policy_pi, V_pi = policy_iteration(P_stacked, R_stack, gamma)\n",
        "print(\"Optimal policy from Policy Iteration:\")\n",
        "print(optimal_policy_pi)\n",
        "print(\"Optimal value function:\")\n",
        "print(V_pi)\n",
        "\n",
        "print(\"\\n---Value Iteration---\\n\")\n",
        "optimal_policy_vi, V_vi = value_iteration(P_stacked, R_stack, gamma)\n",
        "print(\"Optimal policy from Value Iteration:\")\n",
        "print(optimal_policy_vi)\n",
        "print(\"Optimal value function:\")\n",
        "print(V_vi)\n",
        "\n",
        "\n",
        "print(\"\\n---Comparison---\\n\")\n",
        "print(\"The Q value we got in the HW1:\\n\", Q)\n",
        "print(\"\\nAre the optimal policies the same?\", np.array_equal(optimal_policy_pi, optimal_policy_vi))\n",
        "print(\"Maximum difference in value functions:\", np.max(np.abs(V_pi - V_vi)))\n",
        "\n",
        "n_states = P_stacked.shape[1]\n",
        "n_actions = P_stacked.shape[0]\n",
        "Q_optimal = np.zeros((n_states, n_actions))\n",
        "for s in range(n_states):\n",
        "    for a in range(n_actions):\n",
        "        Q_optimal[s, a] = R_stack[a, s] + gamma * np.dot(P_stacked[a, s], V_pi)\n",
        "\n",
        "print(\"\\nOptimal Q-values:\")\n",
        "print(np.round(Q_optimal, 2))\n",
        "print(\"Optimal policy actions:\")\n",
        "print(np.argmax(Q_optimal, axis=1))"
      ],
      "metadata": {
        "colab": {
          "base_uri": "https://localhost:8080/"
        },
        "id": "2xtMfKDqTNmj",
        "outputId": "aa13ef72-766f-4ca3-e29e-e872e4332004"
      },
      "execution_count": null,
      "outputs": [
        {
          "output_type": "stream",
          "name": "stdout",
          "text": [
            "\n",
            "------Policy Evaluation------\n",
            "Policy evaluation converged after 155 iterations\n",
            "Value function for policy [1, 1, 1]:\n",
            "[110.57287936  89.6686114   97.23057197]\n",
            "\n",
            "----Policy Iteration----\n",
            "\n",
            "Policy evaluation converged after 148 iterations\n",
            "Iteration 1, Policy: [1 1 1]\n",
            "Policy evaluation converged after 155 iterations\n",
            "Iteration 2, Policy: [1 1 1]\n",
            "Policy iteration converged after 2 iterations\n",
            "Optimal policy from Policy Iteration:\n",
            "[1 1 1]\n",
            "Optimal value function:\n",
            "[110.57287936  89.6686114   97.23057197]\n",
            "\n",
            "---Value Iteration---\n",
            "\n",
            "Value iteration converged after 126 iterations\n",
            "Optimal policy from Value Iteration:\n",
            "[1 1 1]\n",
            "Optimal value function:\n",
            "[110.57288153  89.66861403  97.23057471]\n",
            "\n",
            "---Comparison---\n",
            "\n",
            "The Q value we got in the HW1:\n",
            " [[69.37 76.7  65.46]\n",
            " [55.84 57.26 54.39]\n",
            " [60.5  64.17 58.3 ]]\n",
            "\n",
            "Are the optimal policies the same? True\n",
            "Maximum difference in value functions: 2.743670393101638e-06\n",
            "\n",
            "Optimal Q-values:\n",
            "[[102.49 110.57  97.93]\n",
            " [ 87.79  89.67  85.83]\n",
            " [ 93.01  97.23  90.39]]\n",
            "Optimal policy actions:\n",
            "[1 1 1]\n"
          ]
        }
      ]
    },
    {
      "cell_type": "code",
      "source": [
        "print(Q)"
      ],
      "metadata": {
        "id": "faeTaH1XTN6R",
        "colab": {
          "base_uri": "https://localhost:8080/"
        },
        "outputId": "30f0f8b3-cbe1-4bb1-e394-b1ae7dd306c6"
      },
      "execution_count": null,
      "outputs": [
        {
          "output_type": "stream",
          "name": "stdout",
          "text": [
            "[[69.37 76.7  65.46]\n",
            " [55.84 57.26 54.39]\n",
            " [60.5  64.17 58.3 ]]\n"
          ]
        }
      ]
    }
  ]
}